{
 "cells": [
  {
   "cell_type": "markdown",
   "metadata": {},
   "source": [
    "## **Peer-graded Assignment: Capstone Project - The Battle of Neighborhoods (Week 1)**"
   ]
  },
  {
   "cell_type": "markdown",
   "metadata": {},
   "source": [
    "## **1th submit** ##"
   ]
  },
  {
   "cell_type": "markdown",
   "metadata": {},
   "source": [
    "*Clearly define a problem or an idea of your choice, where you would need to leverage the Foursquare location data to solve or execute. Remember that data science problems always target an audience and are meant to help a group of stakeholders solve a problem, so make sure that you explicitly describe your audience and why they would care about your problem.*\n",
    "\n",
    "*This submission will eventually become your Introduction/Business Problem section in your final report. So I recommend that you push the report (having your Introduction/Business Problem section only for now) to your Github repository and submit a link to it.*"
   ]
  },
  {
   "cell_type": "markdown",
   "metadata": {},
   "source": [
    "### INTRODUCTION"
   ]
  },
  {
   "cell_type": "markdown",
   "metadata": {},
   "source": [
    "**a.\tDescription of the Problem & Discussion of the Background**\n",
    "\n",
    "If we do not consider the atypical pandemic year 2020, the number of international students has been growing annually in Canada; 642000 immigrants arrived in 2019, nearly 50% study in Ontario [1].\n",
    "\n",
    "There are a thousand reasons to international students prefer Toronto, Canada, which was ranked in 2019 as 11th of 50 best cities in the world for students. The study, requiring eligible cities to have a population over 250,000, and have at least two institutions featured in the QS World University Rankings, was based on five themes including university rankings, student mix, employer activity, quality of living, and affordability [2]\n",
    "\n",
    "Toronto offers various types of lifestyles zones according to different preferences [3]. For this capstone project, I focus on one type of international student, based on a friend (we will call her Linda) who wants to travel to complete her postgraduate studies. She wants to rent a one-bedroom place with the following features in its neighborhood:\n",
    "\n",
    "•\tClose to a park\n",
    "\n",
    "•\tClose to a gym\n",
    "\n",
    "•\tClose to healthy food places\n",
    "\n",
    "•\tClose to bus station\n",
    "\n",
    "•\tSecure\n",
    "\n",
    "•\tThe rent price around CAD 1.000 - 1.100 (1 bedroom)\n",
    "\n",
    "Although there are online home rental platforms, this information is not enough to obtain all information that she needs. For this reason, I will create a map and information chart with some neighborhood/borough options that could adjust to her requirements."
   ]
  },
  {
   "cell_type": "markdown",
   "metadata": {},
   "source": [
    "## **2nd submit** ##"
   ]
  },
  {
   "cell_type": "markdown",
   "metadata": {},
   "source": [
    "*Describe the data that you will be using to solve the problem or execute your idea. Remember that you will need to use the Foursquare location data to solve the problem or execute your idea. You can absolutely use other datasets in combination with the Foursquare location data. So make sure that you provide adequate explanation and discussion, with examples, of the data that you will be using, even if it is only Foursquare location data.*\n",
    "\n",
    "*This submission will eventually become your Data section in your final report. So I recommend that you push the report (having your Data section) to your Github repository and submit a link to it.*"
   ]
  },
  {
   "cell_type": "markdown",
   "metadata": {},
   "source": [
    "**b.\tDescription of the data and how it will be used to solve the problem**\n",
    "\n",
    "I will use the data as below:\n",
    "\n",
    "**-\tFoursquare API to get the most common venues of neighborhood/borough from Toronto, and obtain the places near to a park, gym, healthy food places and bus station.**[4]\n",
    "\n",
    "    * I will use unsupervised learning K-means algorithm to cluster the boroughs.\n",
    "    * I will select the clusters with the most common venues in the wished categories.\n",
    "    \n",
    "    \n",
    "**-\tFrom Toronto Police Service, the Major Crime Indicator (2014 to 2019).**[5]\n",
    "\n",
    "    * I will use a choropleth map for indicate graphically unsecure/secure neighbourhoods.\n",
    "    \n",
    "    \n",
    "**-\tFrom Canada Mortgage and Housing Corporation, the average rent (Oct. 2020).** [6]\n",
    "\n",
    "    * I will use a histogram to create ranges and classify the average rent, with that I can get the boroughs that adjust to requirements.\n",
    "    \n",
    "    \n",
    "**-\tThe Coordinates of Neighbourhoods and Boroughs I will obtain from:**\n",
    "\n",
    "    * Wikipedia Postal Code Toronto: List of Boroughs and Neighbourhoods [7] .\n",
    "    * From academic archive .csv from IBM [8]: List of Postal Code vs Coordinates of Toronto.\n"
   ]
  },
  {
   "cell_type": "markdown",
   "metadata": {},
   "source": [
    "## Works Cited\n",
    "\n",
    "[1] \tK. El-Assal, \"CIC NEWS,\" 2020. [Online]. Available: https://www.cicnews.com/2020/02/642000-international-students-canada-now-ranks-3rd-globally-in-foreign-student-attraction-0213763.html#gs.rgki25.\n",
    "\n",
    "[2] \tQ. Q. Symonds, \"Top Universities,\" [Online]. Available: https://www.topuniversities.com/city-rankings/2019.\n",
    "\n",
    "[3] \tCity of Toronto, [Online]. Available: https://www.toronto.ca/community-people/moving-to-toronto/about-toronto/.\n",
    "\n",
    "[4] \tFoursquare API , [Online]. Available: https://foursquare.com/developers/.\n",
    "\n",
    "[5] \tToronto Police, 2020. [Online]. Available: https://data.torontopolice.on.ca/pages/major-crime-indicators.\n",
    "\n",
    "[6] \tCanada Mortgage and Housing Corporation, 2020. [Online]. Available: https://www.cmhc-schl.gc.ca/en/data-and-research/data-tables/rental-market.\n",
    "\n",
    "[7] \tWikipedia, [Online]. Available: https://en.wikipedia.org/wiki/List_of_postal_codes_of_Canada:_M.\n",
    "\n",
    "[8] \tIBM Cognitive Class, [Online]. Available: https://cocl.us/Geospatial_data."
   ]
  }
 ],
 "metadata": {
  "kernelspec": {
   "display_name": "Python",
   "language": "python",
   "name": "conda-env-python-py"
  },
  "language_info": {
   "codemirror_mode": {
    "name": "ipython",
    "version": 3
   },
   "file_extension": ".py",
   "mimetype": "text/x-python",
   "name": "python",
   "nbconvert_exporter": "python",
   "pygments_lexer": "ipython3",
   "version": "3.6.12"
  }
 },
 "nbformat": 4,
 "nbformat_minor": 4
}
